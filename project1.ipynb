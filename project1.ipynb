{
 "cells": [
  {
   "cell_type": "markdown",
   "metadata": {},
   "source": [
    "# CMPE482 Project 1\n",
    "\n",
    "#### Ali Caner Turkmen\n",
    "\n",
    "Below we implement the first project assignment, basis regression and autoregressive model using various least squares approaches. "
   ]
  },
  {
   "cell_type": "code",
   "execution_count": 1,
   "metadata": {
    "collapsed": true
   },
   "outputs": [],
   "source": [
    "%matplotlib inline\n",
    "import numpy as np\n",
    "from matplotlib import pyplot as plt"
   ]
  },
  {
   "cell_type": "code",
   "execution_count": 2,
   "metadata": {
    "collapsed": false
   },
   "outputs": [],
   "source": [
    "def read_data(filepath):\n",
    "    \"\"\"\n",
    "    :returns: numpy.array with (n_items, n_months) shape\n",
    "    \"\"\"\n",
    "    with open(filepath) as f:\n",
    "        arrs = []\n",
    "        for line in f.readlines():\n",
    "            arrs.append(map(float, line.split(\" \")))\n",
    "    return np.array(arrs)\n",
    "\n",
    "Y = read_data(\"salesdata.txt\")"
   ]
  },
  {
   "cell_type": "code",
   "execution_count": 3,
   "metadata": {
    "collapsed": false
   },
   "outputs": [
    {
     "data": {
      "text/plain": [
       "<matplotlib.legend.Legend at 0x10633df10>"
      ]
     },
     "execution_count": 3,
     "metadata": {},
     "output_type": "execute_result"
    },
    {
     "data": {
      "image/png": "[encoded data removed]",
      "text/plain": [
       "<matplotlib.figure.Figure at 0x1061ead50>"
      ]
     },
     "metadata": {},
     "output_type": "display_data"
    }
   ],
   "source": [
    "M, N = Y.shape\n",
    "f = plt.figure()\n",
    "ax = f.gca()\n",
    "for i in range(M):\n",
    "    ax.plot(Y[i, :], \"o-\", label=\"item %s\" % i)\n",
    "\n",
    "h, l = ax.get_legend_handles_labels()\n",
    "f.legend(h, l)"
   ]
  },
  {
   "cell_type": "markdown",
   "metadata": {},
   "source": [
    "We construct the basis below, for 4, 12, 24 month periods."
   ]
  },
  {
   "cell_type": "code",
   "execution_count": 66,
   "metadata": {
    "collapsed": false
   },
   "outputs": [],
   "source": [
    "def build_basis(N = 24):\n",
    "    ones = np.ones(N)\n",
    "    lin  = np.linspace(0, N-1, N)\n",
    "\n",
    "    trig = lambda x, p: np.c_[np.sin(2*np.pi*lin / p), np.cos(2*np.pi*lin / p)]\n",
    "    T = np.c_[trig(lin, 4), trig(lin, 12), trig(lin, 24)]\n",
    "\n",
    "    return np.c_[ones, lin, T]"
   ]
  },
  {
   "cell_type": "markdown",
   "metadata": {},
   "source": [
    "# Least Squares\n",
    "\n",
    "Now we implement each least squares method, one by one. Note that we do not implement QR factorization since we had already done that in a previous homework. Here we just want to focus on the least squares problem instead, relying on numpy for calculating the factorizations efficiently and accurately."
   ]
  },
  {
   "cell_type": "code",
   "execution_count": 23,
   "metadata": {
    "collapsed": true
   },
   "outputs": [],
   "source": [
    "import scipy.linalg as spla"
   ]
  },
  {
   "cell_type": "code",
   "execution_count": 102,
   "metadata": {
    "collapsed": false
   },
   "outputs": [],
   "source": [
    "class LSSolvers(object):\n",
    "    def lsq_naive(self, X, y):\n",
    "        return np.linalg.inv(X.T.dot(X)).dot(X.T).dot(y)\n",
    "    \n",
    "    def lsq_normeq(self, X, y):\n",
    "        Xy = X.T.dot(y)\n",
    "        XX = X.T.dot(X)\n",
    "        L = np.linalg.cholesky(XX)  # calculates X = LL^T !\n",
    "        w = spla.solve_triangular(L, Xy, lower=True)\n",
    "        return spla.solve_triangular(L.T, w)\n",
    "    \n",
    "    def lsq_qr(self, X, y):\n",
    "        Q, R = np.linalg.qr(X)\n",
    "        w = Q.T.dot(y)\n",
    "        return spla.solve_triangular(R, w)\n",
    "    \n",
    "    def lsq_svd(self, X, y):\n",
    "        U, s, V = np.linalg.svd(X, full_matrices=False)\n",
    "        w = U.T.dot(y) / s\n",
    "        return V.T.dot(w)\n",
    "    \n",
    "    def solve(self, X, y, solver=\"svd\"):\n",
    "        return getattr(self, \"lsq_\"+solver)(X,y)"
   ]
  },
  {
   "cell_type": "code",
   "execution_count": 103,
   "metadata": {
    "collapsed": false
   },
   "outputs": [
    {
     "name": "stdout",
     "output_type": "stream",
     "text": [
      "The slowest run took 7.23 times longer than the fastest. This could mean that an intermediate result is being cached \n",
      "10000 loops, best of 3: 28.2 µs per loop\n",
      "1000 loops, best of 3: 164 µs per loop\n",
      "10000 loops, best of 3: 153 µs per loop\n",
      "10000 loops, best of 3: 50.7 µs per loop\n"
     ]
    }
   ],
   "source": [
    "# Let's take a moment to compare their performance first\n",
    "lss = LSSolvers()\n",
    "%timeit lss.lsq_naive(X, y)\n",
    "%timeit lss.lsq_normeq(X, y)\n",
    "%timeit lss.lsq_qr(X, y)\n",
    "%timeit lss.lsq_svd(X, y)"
   ]
  },
  {
   "cell_type": "markdown",
   "metadata": {},
   "source": [
    "We can now implement the machinery for making predictions. Before moving on, a note on how we interpret the question since it does contain some ambiguities.\n",
    "\n",
    "The question has two parts. Part one is on solving basis regression for multiple outputs, and writing a function that makes predictions the next N months. Its objective is comparing least squares methods. We don't have to write ALS here. We'll just compare methods.\n",
    "\n",
    "In the second part, we will pick one of the methods, and write an ALS solver that handles missing data. With that solver, we will also try the AR model.\n",
    "\n",
    "So the following is part one:"
   ]
  },
  {
   "cell_type": "code",
   "execution_count": 104,
   "metadata": {
    "collapsed": true
   },
   "outputs": [],
   "source": [
    "def predict_time_series(Y, nr_months_pred=6, solver=\"svd\"):\n",
    "    \"\"\"\n",
    "    Note that Y = XW can easily be decomposed, when the columns of W are interpreted \n",
    "    as the learned regression weights for each time series (columns of Y) separately.\n",
    "    \n",
    "    :param Y: the sales data (nr_months_pred, nr_items)\n",
    "    :param nr_months_pred: the number of months to predict after the data\n",
    "    \"\"\"\n",
    "    n, m = Y.shape\n",
    "    \n",
    "    X = build_basis(n + nr_months_pred)\n",
    "    W = np.zeros((X.shape[1], m))\n",
    "    lss = LSSolvers()\n",
    "    \n",
    "    for j in range(m): # for each item\n",
    "        W[:, j] = lss.solve(X[:n, :], Y[:,j], solver=solver)\n",
    "        \n",
    "    return X[n:, :].dot(W), W"
   ]
  },
  {
   "cell_type": "markdown",
   "metadata": {},
   "source": [
    "In the below cells, we answer item (3) of the question."
   ]
  },
  {
   "cell_type": "code",
   "execution_count": 145,
   "metadata": {
    "collapsed": false
   },
   "outputs": [],
   "source": [
    "lss = LSSolvers()\n",
    "preds = {}\n",
    "for solver in [\"naive\", \"normeq\", \"qr\", \"svd\"]:\n",
    "    preds[solver] = predict_time_series(Y.T, 6, solver=solver)"
   ]
  },
  {
   "cell_type": "code",
   "execution_count": 146,
   "metadata": {
    "collapsed": true
   },
   "outputs": [],
   "source": [
    "def total_relerr(A, B):\n",
    "    return np.sum(np.abs(A - B)) / np.sum(np.abs(B))"
   ]
  },
  {
   "cell_type": "code",
   "execution_count": 148,
   "metadata": {
    "collapsed": false
   },
   "outputs": [
    {
     "name": "stdout",
     "output_type": "stream",
     "text": [
      "      naive       qr       svd       normeq \n",
      "naive  0.000e+00 6.453e-16 7.537e-16 4.007e-15 \n",
      "qr     6.453e-16 0.000e+00 3.251e-16 4.252e-15 \n",
      "svd    7.537e-16 3.251e-16 0.000e+00 4.558e-15 \n",
      "normeq 4.007e-15 4.252e-15 4.558e-15 0.000e+00 \n"
     ]
    }
   ],
   "source": [
    "from __future__ import print_function\n",
    "\n",
    "keys = preds.keys()\n",
    "\n",
    "for i in keys:\n",
    "    print(\" \"*5, end=\" \")\n",
    "    print(i, end=\" \")\n",
    "\n",
    "print(\"\\n\",end=\"\")\n",
    "\n",
    "for i in preds.keys():\n",
    "    print(i.ljust(6), end=\" \")\n",
    "    for j in preds.keys():\n",
    "        print(\"%.3e\" % total_relerr(preds[i], preds[j]), end=\" \")\n",
    "    print(\"\\n\", end=\"\")"
   ]
  },
  {
   "cell_type": "markdown",
   "metadata": {},
   "source": [
    "We observe that QR and SVD are close, but normal equations are off by another order of magnitude. We now wrap this in a function to do the things asked in the question."
   ]
  },
  {
   "cell_type": "code",
   "execution_count": 153,
   "metadata": {
    "collapsed": true
   },
   "outputs": [],
   "source": [
    "def project1(salesdata, testdata=None, nr_months_pred=6, solver=\"svd\"):\n",
    "    \"\"\"\n",
    "    Run a least squares model as required in the assignment\n",
    "    \"\"\"\n",
    "    if testdata is not None:\n",
    "        nr_months_pred = testdata.shape[0]\n",
    "        \n",
    "    w, _ = predict_time_series(salesdata, nr_months_pred, solver=\"svd\")\n",
    "    \n",
    "    if testdata is not None:\n",
    "        for j in range(w.shape[1]):\n",
    "            print(\"Item %d: %.4f\" % (j, np.linalg.norm(w[:, j] - testdata[:, j])))\n",
    "            \n",
    "    return w"
   ]
  },
  {
   "cell_type": "markdown",
   "metadata": {},
   "source": [
    "Answer to item 5."
   ]
  },
  {
   "cell_type": "code",
   "execution_count": 156,
   "metadata": {
    "collapsed": false
   },
   "outputs": [
    {
     "data": {
      "text/plain": [
       "array([[  398.43962295,   633.50728676,  1048.53632354,   710.27254869,\n",
       "         1056.10982156],\n",
       "       [  386.35447492,   653.6405252 ,  1077.35221848,   746.88893802,\n",
       "         1070.03303123],\n",
       "       [  358.57893734,   631.01725399,  1076.31760248,   768.37105119,\n",
       "         1039.9110287 ],\n",
       "       [  359.19057805,   620.91576101,  1053.79551944,   785.14142267,\n",
       "         1046.71755169],\n",
       "       [  377.94709037,   644.19228316,  1071.75656889,   809.14120867,\n",
       "         1101.83413901],\n",
       "       [  370.71707153,   645.98079773,  1119.26273192,   823.46083433,\n",
       "         1120.93041073]])"
      ]
     },
     "execution_count": 156,
     "metadata": {},
     "output_type": "execute_result"
    }
   ],
   "source": [
    "project1(Y.T)"
   ]
  },
  {
   "cell_type": "markdown",
   "metadata": {},
   "source": [
    "And here, we demonstrate the answer to item 4."
   ]
  },
  {
   "cell_type": "code",
   "execution_count": 158,
   "metadata": {
    "collapsed": false
   },
   "outputs": [
    {
     "name": "stdout",
     "output_type": "stream",
     "text": [
      "Item 0: 3.6838\n",
      "Item 1: 16.1556\n",
      "Item 2: 5.8650\n",
      "Item 3: 16.4204\n",
      "Item 4: 4.3875\n"
     ]
    },
    {
     "data": {
      "text/plain": [
       "array([[  418.47086632,   592.89915659,  1092.01140031,   654.50062819,\n",
       "         1056.81724999],\n",
       "       [  411.11302122,   605.87742911,  1114.82110334,   662.89926594,\n",
       "         1062.21744336],\n",
       "       [  384.11094746,   584.18008187,  1098.13970323,   661.29090992,\n",
       "         1018.82609996],\n",
       "       [  381.77000744,   582.58440903,  1054.70067629,   667.1691409 ,\n",
       "         1010.86674691]])"
      ]
     },
     "execution_count": 158,
     "metadata": {},
     "output_type": "execute_result"
    }
   ],
   "source": [
    "salesdata = Y.T[:20, :]\n",
    "testdata  = Y.T[20:, :]\n",
    "\n",
    "project1(salesdata, testdata)"
   ]
  },
  {
   "cell_type": "markdown",
   "metadata": {},
   "source": [
    "Let's take some time to actually plot the predictions and see if they make any sense. We seem to be doing OK."
   ]
  },
  {
   "cell_type": "code",
   "execution_count": 309,
   "metadata": {
    "collapsed": false
   },
   "outputs": [],
   "source": [
    "preds = project1(Y.T[:20, :], nr_months_pred=4)"
   ]
  },
  {
   "cell_type": "code",
   "execution_count": 310,
   "metadata": {
    "collapsed": false
   },
   "outputs": [
    {
     "data": {
      "text/plain": [
       "(24, 5)"
      ]
     },
     "execution_count": 310,
     "metadata": {},
     "output_type": "execute_result"
    }
   ],
   "source": [
    "np.r_[Y.T[:20,:], preds].shape"
   ]
  },
  {
   "cell_type": "code",
   "execution_count": 312,
   "metadata": {
    "collapsed": false
   },
   "outputs": [
    {
     "data": {
      "text/plain": [
       "<matplotlib.text.Text at 0x1082a96d0>"
      ]
     },
     "execution_count": 312,
     "metadata": {},
     "output_type": "execute_result"
    },
    {
     "data": {
      "image/png": "[encoded data removed]",
      "text/plain": [
       "<matplotlib.figure.Figure at 0x1082624d0>"
      ]
     },
     "metadata": {},
     "output_type": "display_data"
    }
   ],
   "source": [
    "plt.plot(np.r_[Y.T[:20,:], preds])\n",
    "plt.plot(Y.T, \"--\")\n",
    "plt.title(\"Predictions vs Ground Truth (Ground Truth in Dashed Lines)\")"
   ]
  },
  {
   "cell_type": "markdown",
   "metadata": {},
   "source": [
    "For item 6, we take a different route than suggested in the question. We will unravel the data in time and make a $I \\times D_\\tau$ matrix for data. We will then learn the weight vector for each item."
   ]
  },
  {
   "cell_type": "code",
   "execution_count": 270,
   "metadata": {
    "collapsed": true
   },
   "outputs": [],
   "source": [
    "def build_ar_data(X, lb=5):\n",
    "    \"\"\"\n",
    "    Take a data set and build AR data with lookback\n",
    "    \"\"\"\n",
    "    # build the lookback data\n",
    "    A_ = X.copy()\n",
    "    for i in range(1, lb):\n",
    "        z = np.empty((i, X.shape[1]))\n",
    "        z[:] = np.nan\n",
    "\n",
    "        A_ = np.c_[A_.copy(), np.r_[z, X[:-i, :]]]\n",
    "\n",
    "    return A_"
   ]
  },
  {
   "cell_type": "code",
   "execution_count": 271,
   "metadata": {
    "collapsed": false
   },
   "outputs": [],
   "source": [
    "nandata = read_data(\"salesdata_nan.txt\").T"
   ]
  },
  {
   "cell_type": "code",
   "execution_count": 275,
   "metadata": {
    "collapsed": false
   },
   "outputs": [],
   "source": [
    "X_ar = build_ar_data(nandata)[:-1,:]\n",
    "Y_ar = nandata[1:,:]"
   ]
  },
  {
   "cell_type": "markdown",
   "metadata": {},
   "source": [
    "To avoid slicing through data, let's re-implement our SVD based least squares solver this time in matrix form. "
   ]
  },
  {
   "cell_type": "code",
   "execution_count": 276,
   "metadata": {
    "collapsed": true
   },
   "outputs": [],
   "source": [
    "def lsq_mat(X, Y):\n",
    "    U, s, V = np.linalg.svd(X, full_matrices=False)\n",
    "    w = (U.T.dot(Y).T / s).T\n",
    "    return V.T.dot(w)"
   ]
  },
  {
   "cell_type": "code",
   "execution_count": 277,
   "metadata": {
    "collapsed": true
   },
   "outputs": [],
   "source": [
    "def lsq_mat_right(X, Y):\n",
    "    \"\"\"\n",
    "    Solve least squares of type\n",
    "    Y = XA where X is unknown\n",
    "    \"\"\"\n",
    "    U, s, V = np.linalg.svd(X, full_matrices=False)\n",
    "    W = Y.dot(V.T) / s\n",
    "    return W.dot(U.T)"
   ]
  },
  {
   "cell_type": "markdown",
   "metadata": {},
   "source": [
    "Now we write alternating least squares that handles missing data"
   ]
  },
  {
   "cell_type": "code",
   "execution_count": 278,
   "metadata": {
    "collapsed": true
   },
   "outputs": [],
   "source": [
    "def als(X, Y):\n",
    "    \"\"\"\n",
    "    Solve alternating least squares of type\n",
    "    Y = XW \n",
    "    \n",
    "    \"\"\"\n",
    "    nanX = np.nonzero(np.isnan(X))\n",
    "    nanY = np.nonzero(np.isnan(Y))\n",
    "    \n",
    "    X = np.nan_to_num(X)\n",
    "    Y = np.nan_to_num(Y)\n",
    "    \n",
    "    W = np.random.rand(X.shape[1], Y.shape[1])\n",
    "    \n",
    "    prevX = X.copy()\n",
    "    prevW = W.copy()\n",
    "    \n",
    "    conv = [], []\n",
    "    \n",
    "    for i in range(100):\n",
    "        W = lsq_mat(X, Y)\n",
    "        X[nanX] = lsq_mat_right(W, Y)[nanX]\n",
    "        Y[nanY] = X.dot(W)[nanY]\n",
    "        \n",
    "        diffX = np.linalg.norm(X - prevX, \"fro\")\n",
    "        diffW = np.linalg.norm(W - prevW, \"fro\")\n",
    "        \n",
    "        conv[0].append(diffX)\n",
    "        conv[1].append(diffW)\n",
    "        \n",
    "        if diffX < 1e-8 and diffW < 1e-8:\n",
    "            break\n",
    "        \n",
    "        prevX = X.copy()\n",
    "        prevW = W.copy()\n",
    "    \n",
    "    return W, conv"
   ]
  },
  {
   "cell_type": "markdown",
   "metadata": {},
   "source": [
    "Below we run the ALS algorithm and check it converges."
   ]
  },
  {
   "cell_type": "code",
   "execution_count": 281,
   "metadata": {
    "collapsed": false
   },
   "outputs": [],
   "source": [
    "W, c = als(X_ar, Y_ar)"
   ]
  },
  {
   "cell_type": "code",
   "execution_count": 282,
   "metadata": {
    "collapsed": false
   },
   "outputs": [
    {
     "data": {
      "text/plain": [
       "<matplotlib.legend.Legend at 0x107b37b10>"
      ]
     },
     "execution_count": 282,
     "metadata": {},
     "output_type": "execute_result"
    },
    {
     "data": {
      "image/png": "[encoded data removed]",
      "text/plain": [
       "<matplotlib.figure.Figure at 0x107ad6210>"
      ]
     },
     "metadata": {},
     "output_type": "display_data"
    }
   ],
   "source": [
    "plt.plot(c[0], label=\"Norm Diff X\")\n",
    "plt.plot(c[1], label=\"Norm Diff W\")\n",
    "plt.title(\"Convergence\")\n",
    "plt.xlabel(\"Iterations\")\n",
    "plt.ylabel(\"LOG Frobenius Norm of $X - X_{prev}$\")\n",
    "plt.semilogy()\n",
    "plt.legend()"
   ]
  },
  {
   "cell_type": "markdown",
   "metadata": {},
   "source": [
    "Finally, we wrap the above code in a function in coherence with the project requirements."
   ]
  },
  {
   "cell_type": "code",
   "execution_count": 296,
   "metadata": {
    "collapsed": false
   },
   "outputs": [],
   "source": [
    "def project_part2(D_tau, salesdata, testdata=None):\n",
    "    \n",
    "    X = build_ar_data(salesdata, lb=D_tau)[:-1, :]\n",
    "    Y = salesdata[1:,:]\n",
    "    \n",
    "    W, cg = als(X, Y)\n",
    "    \n",
    "    y_pred = (W.T.dot(np.nan_to_num(X[-1,:]))).T\n",
    "    \n",
    "    if testdata is not None:\n",
    "        X_test = build_ar_data(testdata, lb=D_tau)[:-1, :]\n",
    "        Y_test = testdata[1:, :]\n",
    "        \n",
    "        print(\"Test error: \", np.linalg.norm(Y_test - np.nan_to_num(X_test.dot(W)), \"fro\"))\n",
    "    \n",
    "#     W__ = \n",
    "    return W, y_pred"
   ]
  },
  {
   "cell_type": "markdown",
   "metadata": {},
   "source": [
    "First we check for the no NaN scenario and make predictions and tests."
   ]
  },
  {
   "cell_type": "code",
   "execution_count": 297,
   "metadata": {
    "collapsed": false
   },
   "outputs": [
    {
     "name": "stdout",
     "output_type": "stream",
     "text": [
      "Test error:  3103.68394009\n"
     ]
    },
    {
     "data": {
      "text/plain": [
       "(array([[  1.07193410e+00,   7.70843769e-01,   2.58848973e+00,\n",
       "           1.02742658e+00,   2.79283570e+00],\n",
       "        [ -4.09431229e-01,  -7.62916019e-02,  -2.73740204e-01,\n",
       "           5.57996860e-02,  -3.97571571e-01],\n",
       "        [  1.50018853e-01,  -6.20007461e-01,  -8.35560879e-02,\n",
       "          -5.14917460e-01,  -4.61105267e-01],\n",
       "        [ -2.03339566e-01,  -1.61634690e-03,  -5.28913802e-02,\n",
       "           2.19368213e-01,   2.31032563e-01],\n",
       "        [ -3.05652231e-01,   3.19177397e-01,  -9.82244079e-01,\n",
       "          -1.37999862e-01,  -7.94067102e-01],\n",
       "        [  1.39589500e-01,   4.90711132e-02,  -4.45348379e-02,\n",
       "           2.73075249e-03,   1.64683794e-02],\n",
       "        [  4.60753753e-01,   7.73159088e-01,   1.59951616e+00,\n",
       "           9.92819514e-01,   1.33490577e+00],\n",
       "        [ -2.22654045e-01,   1.01416469e-01,  -8.89911873e-01,\n",
       "          -2.47157295e-01,  -4.04693902e-01],\n",
       "        [  1.38591132e+00,   1.47419939e+00,   3.09487320e+00,\n",
       "           1.36991436e+00,   3.12339801e+00],\n",
       "        [ -6.00746050e-01,  -1.05060433e+00,  -1.02170572e+00,\n",
       "          -7.22728535e-01,  -1.43901123e+00],\n",
       "        [ -8.58245714e-01,  -4.06357416e-01,  -2.22976168e+00,\n",
       "          -6.85475890e-01,  -1.90205420e+00],\n",
       "        [ -4.88484224e-01,  -1.74878093e-01,  -1.21790694e+00,\n",
       "          -2.14268152e-01,  -7.92471214e-01],\n",
       "        [  6.51524517e-01,   1.07212852e+00,   1.68345732e+00,\n",
       "           6.16105244e-01,   1.63261442e+00],\n",
       "        [ -2.21879926e-01,  -4.59011674e-01,  -4.57938878e-01,\n",
       "          -1.09528929e-01,  -5.50767162e-01],\n",
       "        [  1.72042885e-01,  -5.51008845e-01,   3.73442851e-01,\n",
       "          -1.00998814e-01,   5.93067785e-02],\n",
       "        [  9.98208133e-01,   4.74973254e-01,   1.23236037e+00,\n",
       "           5.60712223e-01,   1.63433688e+00],\n",
       "        [ -6.09596922e-01,  -9.96930462e-01,  -1.94197411e+00,\n",
       "          -7.77359305e-01,  -2.12317983e+00],\n",
       "        [ -1.40885606e-01,  -1.51153467e-01,   9.69102409e-02,\n",
       "          -1.67453001e-01,  -2.26749751e-01],\n",
       "        [  2.88729815e-02,   7.66230563e-01,   1.37256713e+00,\n",
       "           9.86322819e-01,   1.43338940e+00],\n",
       "        [  2.20373748e-02,   1.96602967e-03,  -4.24950735e-01,\n",
       "          -2.22994976e-01,  -1.88621533e-01],\n",
       "        [ -2.04763046e-01,  -1.27630099e-01,  -6.78239940e-01,\n",
       "          -4.08232793e-02,  -6.21883938e-01],\n",
       "        [ -1.91547590e-02,  -9.50591945e-01,  -9.84477772e-01,\n",
       "          -9.44284457e-01,  -1.10246448e+00],\n",
       "        [  3.96016088e-01,   9.07982463e-01,   7.85758515e-01,\n",
       "           7.79169703e-01,   1.01436333e+00],\n",
       "        [ -3.42014153e-01,  -4.06729788e-01,  -8.72099725e-01,\n",
       "          -5.91102084e-01,  -7.60076937e-01],\n",
       "        [ -2.50041985e-02,   1.19986813e-01,   7.73673387e-01,\n",
       "           3.27348105e-01,   5.51943656e-01]]),\n",
       " array([  398.,   568.,  1094.,   652.,  1019.]))"
      ]
     },
     "execution_count": 297,
     "metadata": {},
     "output_type": "execute_result"
    }
   ],
   "source": [
    "project_part2(5, salesdata, testdata)"
   ]
  },
  {
   "cell_type": "markdown",
   "metadata": {},
   "source": [
    "We can also now check that everything works fine with NaNs."
   ]
  },
  {
   "cell_type": "code",
   "execution_count": 298,
   "metadata": {
    "collapsed": false
   },
   "outputs": [
    {
     "data": {
      "text/plain": [
       "(array([[  5.45394841e-01,  -1.07189476e-01,  -2.39490084e-01,\n",
       "          -6.64143285e-01,  -3.88104035e+01],\n",
       "        [ -5.97831802e-03,   5.25903893e-01,  -2.65292885e-02,\n",
       "          -2.81549581e-01,   6.54050071e+01],\n",
       "        [  4.62462848e-01,  -3.93551757e-01,   9.47833428e-01,\n",
       "           3.94825916e+00,  -4.07811928e+01],\n",
       "        [ -3.71977677e-01,  -1.34394379e-01,  -7.44803669e-01,\n",
       "          -2.95219054e+00,  -2.01620006e+01],\n",
       "        [ -1.80229725e-04,  -5.15274072e-04,  -3.47717868e-03,\n",
       "          -1.56087205e-02,  -1.99146279e+00],\n",
       "        [  1.19049024e+00,   2.43251379e-01,  -2.35088042e-01,\n",
       "          -8.54629527e-01,  -2.19318342e+01],\n",
       "        [ -2.89461821e+00,  -8.01431091e-01,   1.46332525e+00,\n",
       "           5.52904309e+00,   7.16318268e+01],\n",
       "        [ -3.66598737e-01,  -2.66534517e-01,  -6.99162662e-01,\n",
       "          -1.68797244e+00,   1.59551716e+01],\n",
       "        [  2.38677989e-01,   1.05740792e-01,  -2.77070546e-01,\n",
       "          -2.42570803e+00,  -1.11454780e+01],\n",
       "        [  1.06476421e+00,   6.25190534e-01,  -5.18640047e-03,\n",
       "          -1.91950824e-02,  -1.75054728e+00],\n",
       "        [ -4.68503436e-01,  -1.61268537e-02,   4.80517239e-01,\n",
       "           1.36691890e+00,   3.27871796e+01],\n",
       "        [  5.88759091e-01,  -1.95144301e-01,  -8.64816981e-01,\n",
       "          -3.98127598e+00,  -5.51528866e+01],\n",
       "        [ -3.96884360e+00,  -1.50923163e+00,   1.54037128e+00,\n",
       "           7.81736899e+00,   7.20016397e+01],\n",
       "        [  1.15940894e+00,   5.08550249e-01,  -9.97902414e-01,\n",
       "          -3.74293643e+00,  -2.85219824e+01],\n",
       "        [  7.19721281e-01,   5.21628517e-01,   2.68670444e-01,\n",
       "           8.61824101e-01,  -1.25407927e+00],\n",
       "        [  5.05755437e-01,   4.82769112e-01,   4.89217770e-01,\n",
       "           2.28211025e+00,   2.57720003e+01],\n",
       "        [ -1.77140234e+00,  -1.03566352e+00,  -9.58909204e-01,\n",
       "          -2.82469707e+00,   1.98393597e+01],\n",
       "        [  3.10622321e+00,   1.15726425e+00,   5.90569184e-01,\n",
       "          -2.50756350e+00,  -7.49885499e+01],\n",
       "        [  5.78296369e-03,   2.64907611e-01,   4.36922441e-01,\n",
       "           3.43467708e+00,   2.39040019e+01],\n",
       "        [ -1.02637254e+00,  -5.29910542e-01,  -3.21324304e-01,\n",
       "          -1.44227301e+00,  -1.62283842e+01],\n",
       "        [ -6.34907113e-01,  -2.22483739e-01,   6.27197115e-01,\n",
       "           3.04026086e+00,   1.63152405e+01],\n",
       "        [  9.18389407e-01,   3.17882166e-01,  -9.28066733e-01,\n",
       "          -4.50247427e+00,  -2.20437348e+01],\n",
       "        [  1.50479679e+00,   1.47292082e+00,   9.04773901e-01,\n",
       "           5.05626599e+00,   1.31894534e+02],\n",
       "        [  1.79299046e+00,   6.62690443e-01,   6.45033474e-01,\n",
       "           2.82631181e-01,  -7.90244894e+01],\n",
       "        [ -7.50217910e-01,  -5.91520169e-01,  -6.32190157e-01,\n",
       "          -2.28828615e+00,  -1.96951925e+01]]),\n",
       " array([  776.42787543,   437.30509971,   236.73859107,   110.62181692,\n",
       "        -3505.29663863]))"
      ]
     },
     "execution_count": 298,
     "metadata": {},
     "output_type": "execute_result"
    }
   ],
   "source": [
    "project_part2(5, nandata)"
   ]
  },
  {
   "cell_type": "code",
   "execution_count": null,
   "metadata": {
    "collapsed": true
   },
   "outputs": [],
   "source": []
  }
 ],
 "metadata": {
  "kernelspec": {
   "display_name": "Python 2",
   "language": "python",
   "name": "python2"
  },
  "language_info": {
   "codemirror_mode": {
    "name": "ipython",
    "version": 2
   },
   "file_extension": ".py",
   "mimetype": "text/x-python",
   "name": "python",
   "nbconvert_exporter": "python",
   "pygments_lexer": "ipython2",
   "version": "2.7.10"
  }
 },
 "nbformat": 4,
 "nbformat_minor": 0
}
