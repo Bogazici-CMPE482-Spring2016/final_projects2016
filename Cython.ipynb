{
 "cells": [
  {
   "cell_type": "markdown",
   "metadata": {},
   "source": [
    "# A Short Tutorial on Cython: Similarity Kernels\n",
    "\n",
    "#### Ali Caner Turkmen*\n",
    "**Dept. of Computer Engineering, Bogazici University*\n",
    "\n",
    "In this project, we had some computationally intensive requirements. Chief among them were alternating least squares, calculating a Gaussian kernel matrix, and solving the eigenvalue problem. Python, although a beautiful language, lacks in efficiency when it comes to iterative matrix operations and especially those that require slicing of large tensors.\n",
    "\n",
    "In this light, we present a short tutorial on Cython: a surprisingly great way to do things efficiently with Python, and mix C code into Python projects. With good knowledge of Cython one can:\n",
    "\n",
    "- Write efficient code in Python-like syntax.\n",
    "- Speed things up, up to 3 orders of magnitude\n",
    "- Wrap C code and call scientific C libraries.\n",
    "\n",
    "This is why Cython is now a core part of the Python scientist's toolchain.\n",
    "\n",
    "Before we begin, a few surprising facts about Cython:\n",
    "\n",
    "- Python code is valid Cython code. Even without adding any syntactic Cython sugar, we can speed Python up by just compiling it to C with Cython.\n",
    "- Cython has built in support for NumPy, so accessing NumPy tensors via Cython, you feel right at home.\n",
    "- Cython is not a compromise! Cython feels like it is an abstraction layer over C (and due to the law of leaky abstractions), so we are trading off syntactic simplicity for little gained efficiency. This is not the case. When wrapping C or accessing Python objects, especially NumPy, Cython compiles into more efficient C code that one could write on his own. \n",
    "\n",
    "Another great fact is that Cython plays nicely with jupyter. We will see that we can compile a jupyter cell to C with \"cell magic `%%cython`\". We will use `%timeit` to check things are running faster."
   ]
  },
  {
   "cell_type": "markdown",
   "metadata": {},
   "source": [
    "## Starting Simple\n",
    "\n",
    "Let's start simple. Say we have an array that we'd like to fill with $U(0,1)$ random numbers, but we want to do it one by one for some obscure reason. Also assume we have access to the random number generator of numpy. The classical way to do it in numpy would be:"
   ]
  },
  {
   "cell_type": "code",
   "execution_count": 7,
   "metadata": {
    "collapsed": false
   },
   "outputs": [],
   "source": [
    "import numpy as np\n",
    "\n",
    "def fill_uni(N=10000):\n",
    "    v = np.zeros(N)\n",
    "    for i in range(N):\n",
    "        v[i] = np.random.rand()\n",
    "    return v"
   ]
  },
  {
   "cell_type": "markdown",
   "metadata": {},
   "source": [
    "Let's make good on our first promise, that any Python code is valid Cython code. Let's also take advantage of the great `%%cython` cell magic."
   ]
  },
  {
   "cell_type": "code",
   "execution_count": 8,
   "metadata": {
    "collapsed": false
   },
   "outputs": [
    {
     "name": "stdout",
     "output_type": "stream",
     "text": [
      "The Cython extension is already loaded. To reload it, use:\n",
      "  %reload_ext Cython\n"
     ]
    }
   ],
   "source": [
    "%load_ext Cython"
   ]
  },
  {
   "cell_type": "code",
   "execution_count": 11,
   "metadata": {
    "collapsed": false
   },
   "outputs": [],
   "source": [
    "%%cython\n",
    "import numpy as cnp\n",
    "\n",
    "def fill_uni_2(N=10000):\n",
    "    v = cnp.zeros(N)\n",
    "    for i in range(N):\n",
    "        v[i] = cnp.random.rand()\n",
    "    return v"
   ]
  },
  {
   "cell_type": "code",
   "execution_count": 13,
   "metadata": {
    "collapsed": false
   },
   "outputs": [
    {
     "name": "stdout",
     "output_type": "stream",
     "text": [
      "100 loops, best of 3: 3.35 ms per loop\n",
      "100 loops, best of 3: 2.34 ms per loop\n"
     ]
    }
   ],
   "source": [
    "%timeit fill_uni()\n",
    "%timeit fill_uni_2()"
   ]
  },
  {
   "cell_type": "markdown",
   "metadata": {},
   "source": [
    "We're already seeing some improvement! Now let's start shedding some of the weights Python introduces."
   ]
  },
  {
   "cell_type": "code",
   "execution_count": 38,
   "metadata": {
    "collapsed": false
   },
   "outputs": [],
   "source": [
    "%%cython\n",
    "import numpy as cnp\n",
    "cimport numpy as cnp\n",
    "\n",
    "def fill_uni_3(int N=10000):\n",
    "    cdef cnp.ndarray[ndim=1, dtype=cnp.float64_t] v = cnp.zeros(N)\n",
    "    cdef int i\n",
    "    \n",
    "    for i in range(N):\n",
    "        v[i] = cnp.random.rand()\n",
    "    return v"
   ]
  },
  {
   "cell_type": "markdown",
   "metadata": {},
   "source": [
    "Let's look at what we did above. We typed v and i as C types. Having done that, we got rid of the thin \"boxing\" layer (PyObject) that Python wraps around even primitive types such as `int`."
   ]
  },
  {
   "cell_type": "code",
   "execution_count": 19,
   "metadata": {
    "collapsed": false
   },
   "outputs": [
    {
     "name": "stdout",
     "output_type": "stream",
     "text": [
      "100 loops, best of 3: 3.15 ms per loop\n",
      "100 loops, best of 3: 2.35 ms per loop\n",
      "1000 loops, best of 3: 1.51 ms per loop\n"
     ]
    }
   ],
   "source": [
    "%timeit fill_uni()\n",
    "%timeit fill_uni_2()\n",
    "%timeit fill_uni_3()"
   ]
  },
  {
   "cell_type": "markdown",
   "metadata": {},
   "source": [
    "That's already a 2x improvement! We can do more. Assume we're not happy with the random number generator. We'd like to use C's good old rand()."
   ]
  },
  {
   "cell_type": "code",
   "execution_count": 40,
   "metadata": {
    "collapsed": true
   },
   "outputs": [],
   "source": [
    "%%cython\n",
    "import cython\n",
    "import numpy as cnp\n",
    "cimport numpy as cnp\n",
    "\n",
    "ctypedef cnp.float64_t npfloat\n",
    "\n",
    "cdef extern from \"stdlib.h\":\n",
    "    int rand()\n",
    "    int RAND_MAX\n",
    "\n",
    "@cython.boundscheck(False)\n",
    "@cython.wraparound(False)\n",
    "@cython.cdivision(True)\n",
    "def fill_uni_4(int N=10000):\n",
    "    cdef cnp.ndarray[ndim=1, dtype=cnp.float64_t] v = cnp.zeros(N)\n",
    "    cdef int i\n",
    "    \n",
    "    for i in range(N):\n",
    "        v[i] = <npfloat>rand() / <npfloat>RAND_MAX\n",
    "    \n",
    "    return v"
   ]
  },
  {
   "cell_type": "markdown",
   "metadata": {},
   "source": [
    "Let's go over the code. First, we declared a `typedef` like we would do in C. We told the compiler that our `npfloat` type would refer to numpy's float64. \n",
    "\n",
    "Then we told the compiler which functions and constants we'd like to use from the C standard library. \n",
    "\n",
    "Then, we decorated our `fill_uni_4` function with `cdivision(True)`. We told the compiler to skip the Div/0 error check Python performs, and that we're sure we won't be dividing by 0. This led to a speed gain of 35% as per Cython docs.\n",
    "\n",
    "We further tell the compiler that `boundscheck` and `wraparound` are false. In the first, we tell the compiler to stop checking for IndexErrors, and we're sure that we'll be indexing the array correctly. In the second, we tell Cython to stop checking for wraparounds in indexes (such as `A[-2]`) and that we'll index our arrays like we would index C arrays.\n",
    "\n",
    "Finally, note the nice type casting syntax. The C casting `(float)myint` is analogous to the Cython directive `<float>myint`.\n",
    "\n",
    "Below, we see that this led to a speed gain around 35x!!!"
   ]
  },
  {
   "cell_type": "code",
   "execution_count": 41,
   "metadata": {
    "collapsed": false
   },
   "outputs": [
    {
     "name": "stdout",
     "output_type": "stream",
     "text": [
      "100 loops, best of 3: 3.26 ms per loop\n",
      "100 loops, best of 3: 2.57 ms per loop\n",
      "1000 loops, best of 3: 1.59 ms per loop\n",
      "10000 loops, best of 3: 91.1 µs per loop\n"
     ]
    }
   ],
   "source": [
    "%timeit fill_uni()\n",
    "%timeit fill_uni_2()\n",
    "%timeit fill_uni_3()\n",
    "%timeit fill_uni_4()"
   ]
  },
  {
   "cell_type": "markdown",
   "metadata": {},
   "source": [
    "And behold, we're doing better than Numpy itself!!"
   ]
  },
  {
   "cell_type": "code",
   "execution_count": 43,
   "metadata": {
    "collapsed": false
   },
   "outputs": [
    {
     "name": "stdout",
     "output_type": "stream",
     "text": [
      "10000 loops, best of 3: 150 µs per loop\n"
     ]
    }
   ],
   "source": [
    "%timeit np.random.rand(10000)"
   ]
  },
  {
   "cell_type": "markdown",
   "metadata": {},
   "source": [
    "## Similarity Kernels\n",
    "\n",
    "One of the tasks in the project required the calculation of a similarity kernel, more specifically a Gaussian (RBF) kernel defined as:\n",
    "\n",
    "$$\n",
    "K(\\mathbf{x}, \\mathbf{y}) = \\exp\\left(\\dfrac{1}{2\\sigma^2}||\\mathbf{x} - \\mathbf{y}||^2_2\\right)\n",
    "$$\n",
    "\n",
    "To do this for every pair of instances, we have little choice but to launch a $O(mn^2)$ scan over all the instances. This is an ideal point in the play for Cython to take stage.\n",
    "\n",
    "Once again, let's start naively."
   ]
  },
  {
   "cell_type": "code",
   "execution_count": 55,
   "metadata": {
    "collapsed": false
   },
   "outputs": [],
   "source": [
    "# Assume instances are organized along the columns of X\n",
    "rng = np.random.RandomState(12345)\n",
    "X = rng.rand(20, 2000)"
   ]
  },
  {
   "cell_type": "code",
   "execution_count": 56,
   "metadata": {
    "collapsed": true
   },
   "outputs": [],
   "source": [
    "def rbf_naive(X, sigma=0.5):\n",
    "    m, n = X.shape\n",
    "    A = np.zeros((n,n))\n",
    "    for i in range(n):\n",
    "        for j in range(i, n):\n",
    "            A[i, j] = np.exp(np.linalg.norm(X[:,i] - X[:,j])**2 / (2 * sigma**2))\n",
    "    return A"
   ]
  },
  {
   "cell_type": "code",
   "execution_count": 57,
   "metadata": {
    "collapsed": false
   },
   "outputs": [
    {
     "name": "stdout",
     "output_type": "stream",
     "text": [
      "1 loops, best of 3: 31.9 s per loop\n"
     ]
    }
   ],
   "source": [
    "%timeit rbf_naive(X)"
   ]
  },
  {
   "cell_type": "markdown",
   "metadata": {},
   "source": [
    "We hardly want to spend 31 seconds for such a trivial task. Again, let's see what happens when we just compile the same Python code."
   ]
  },
  {
   "cell_type": "code",
   "execution_count": 59,
   "metadata": {
    "collapsed": false
   },
   "outputs": [],
   "source": [
    "%%cython\n",
    "\n",
    "import numpy as np\n",
    "\n",
    "def rbf_naive_c(X, sigma=0.5):\n",
    "    m, n = X.shape\n",
    "    A = np.zeros((n,n))\n",
    "    for i in range(n):\n",
    "        for j in range(i, n):\n",
    "            A[i, j] = np.exp(np.linalg.norm(X[:,i] - X[:,j])**2 / (2 * sigma**2))\n",
    "    return A"
   ]
  },
  {
   "cell_type": "code",
   "execution_count": 60,
   "metadata": {
    "collapsed": false
   },
   "outputs": [
    {
     "name": "stdout",
     "output_type": "stream",
     "text": [
      "1 loops, best of 3: 32.1 s per loop\n"
     ]
    }
   ],
   "source": [
    "%timeit rbf_naive_c(X)"
   ]
  },
  {
   "cell_type": "markdown",
   "metadata": {},
   "source": [
    "No gain at all! This is not very surprising that although we compiled into C, we just keep working with the Python boxing layers, not shedding any of the deadweight. Let's start doing just that."
   ]
  },
  {
   "cell_type": "code",
   "execution_count": 63,
   "metadata": {
    "collapsed": false
   },
   "outputs": [],
   "source": [
    "%%cython\n",
    "\n",
    "import numpy as np\n",
    "cimport numpy as np\n",
    "\n",
    "ctypedef np.float64_t npfloat\n",
    "\n",
    "def rbf_c_1(np.ndarray[ndim=2, dtype=npfloat] X, float sigma=0.5):\n",
    "    cdef int m, n\n",
    "    cdef np.ndarray[ndim=2, dtype=npfloat] A\n",
    "    \n",
    "    m = X.shape[0]\n",
    "    n = X.shape[1]\n",
    "    \n",
    "    A = np.zeros((n,n))\n",
    "    \n",
    "    for i in range(n):\n",
    "        for j in range(i, n):\n",
    "            A[i, j] = np.exp(np.linalg.norm(X[:,i] - X[:,j])**2 / (2 * sigma**2))\n",
    "    \n",
    "    return A"
   ]
  },
  {
   "cell_type": "code",
   "execution_count": 64,
   "metadata": {
    "collapsed": false
   },
   "outputs": [
    {
     "name": "stdout",
     "output_type": "stream",
     "text": [
      "1 loops, best of 3: 29.9 s per loop\n"
     ]
    }
   ],
   "source": [
    "%timeit rbf_c_1(X)"
   ]
  },
  {
   "cell_type": "markdown",
   "metadata": {},
   "source": [
    "Still no joy.. But note the reason, although we're typing our variables we are calling Python functions with them. We must be able to do better. \n",
    "\n",
    "Let's work with C functions again, slice our arrays further, and use decorators to get rid some of the Python checks."
   ]
  },
  {
   "cell_type": "code",
   "execution_count": 66,
   "metadata": {
    "collapsed": false
   },
   "outputs": [],
   "source": [
    "%%cython\n",
    "\n",
    "import cython\n",
    "import numpy as np\n",
    "cimport numpy as np\n",
    "\n",
    "cdef extern from \"math.h\":\n",
    "    double pow(double x, double y)\n",
    "    double exp(double x)\n",
    "\n",
    "ctypedef np.float64_t npfloat\n",
    "\n",
    "@cython.boundscheck(False)\n",
    "@cython.wraparound(False)\n",
    "@cython.cdivision(True)\n",
    "def rbf_c_2(np.ndarray[ndim=2, dtype=npfloat] X, float sigma=0.5):\n",
    "    cdef int m, n\n",
    "    cdef np.ndarray[ndim=2, dtype=npfloat] A = np.zeros((n,n))\n",
    "    cdef npfloat sumsq\n",
    "    \n",
    "    m = X.shape[0]\n",
    "    n = X.shape[1]\n",
    "    \n",
    "    for i in range(n):\n",
    "        for j in range(i, n):\n",
    "            sumsq = 0.\n",
    "            for k in range(m):\n",
    "                sumsq += pow(X[k, i] - X[k, j], 2)\n",
    "                \n",
    "            A[i, j] = exp(sumsq / (2 * pow(sigma,2)))\n",
    "    \n",
    "    return A"
   ]
  },
  {
   "cell_type": "code",
   "execution_count": 67,
   "metadata": {
    "collapsed": false
   },
   "outputs": [
    {
     "name": "stdout",
     "output_type": "stream",
     "text": [
      "10 loops, best of 3: 88.9 ms per loop\n"
     ]
    }
   ],
   "source": [
    "%timeit rbf_c_2(X)"
   ]
  },
  {
   "cell_type": "markdown",
   "metadata": {},
   "source": [
    "With adding little code, we gained 350x times speed! For greater N, the effect is bound to be much more dramatic."
   ]
  },
  {
   "cell_type": "markdown",
   "metadata": {},
   "source": [
    "## Cython For The Real World\n",
    "\n",
    "Here we worked exclusively with the very convenient `%%cython` cell magic in Jupyter. However, when building software, we may want to (actually we must want to) have the C libraries ready for Python. \n",
    "\n",
    "This is also easily achieved. A Cython code file has the extension `.pyx`. A `setup.py` file is also required pointing to the compiler directives. Then, the \n",
    "\n",
    "```\n",
    "$ python setup.py build_ext --inplace\n",
    "``` \n",
    "\n",
    "command can be used in the command line to build the binary. Examples of both files can be found in this project's directory."
   ]
  }
 ],
 "metadata": {
  "kernelspec": {
   "display_name": "Python 2",
   "language": "python",
   "name": "python2"
  },
  "language_info": {
   "codemirror_mode": {
    "name": "ipython",
    "version": 2
   },
   "file_extension": ".py",
   "mimetype": "text/x-python",
   "name": "python",
   "nbconvert_exporter": "python",
   "pygments_lexer": "ipython2",
   "version": "2.7.10"
  }
 },
 "nbformat": 4,
 "nbformat_minor": 0
}
